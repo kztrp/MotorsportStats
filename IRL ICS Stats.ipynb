{
 "cells": [
  {
   "cell_type": "code",
   "execution_count": 1,
   "id": "72e0bddc-2273-4a7b-a20a-0eef14611411",
   "metadata": {},
   "outputs": [],
   "source": [
    "import pandas as pd\n",
    "import seaborn as sns\n",
    "import matplotlib.pyplot as plt\n",
    "import numpy as np"
   ]
  },
  {
   "cell_type": "code",
   "execution_count": 3,
   "id": "3df36909-f56f-444f-9e89-496ef1c01191",
   "metadata": {},
   "outputs": [
    {
     "data": {
      "text/html": [
       "<div>\n",
       "<style scoped>\n",
       "    .dataframe tbody tr th:only-of-type {\n",
       "        vertical-align: middle;\n",
       "    }\n",
       "\n",
       "    .dataframe tbody tr th {\n",
       "        vertical-align: top;\n",
       "    }\n",
       "\n",
       "    .dataframe thead th {\n",
       "        text-align: right;\n",
       "    }\n",
       "</style>\n",
       "<table border=\"1\" class=\"dataframe\">\n",
       "  <thead>\n",
       "    <tr style=\"text-align: right;\">\n",
       "      <th></th>\n",
       "      <th>Season</th>\n",
       "      <th>Race</th>\n",
       "      <th>Track</th>\n",
       "      <th>Type</th>\n",
       "      <th>Pole Position</th>\n",
       "      <th>Winner</th>\n",
       "      <th>Winning Team</th>\n",
       "      <th>Winning Engine</th>\n",
       "    </tr>\n",
       "  </thead>\n",
       "  <tbody>\n",
       "    <tr>\n",
       "      <th>0</th>\n",
       "      <td>1996</td>\n",
       "      <td>Indy 200 at Walt Disney World</td>\n",
       "      <td>Walt Disney World Speedway</td>\n",
       "      <td>Oval</td>\n",
       "      <td>Buddy Lazier</td>\n",
       "      <td>Buzz Calkins</td>\n",
       "      <td>Bradley</td>\n",
       "      <td>Ford Cosworth</td>\n",
       "    </tr>\n",
       "    <tr>\n",
       "      <th>1</th>\n",
       "      <td>1996</td>\n",
       "      <td>Dura Lube 200</td>\n",
       "      <td>Phoenix International Raceway</td>\n",
       "      <td>Oval</td>\n",
       "      <td>Arie Luyendyk</td>\n",
       "      <td>Arie Luyendyk</td>\n",
       "      <td>Byrd-Treadway</td>\n",
       "      <td>Ford Cosworth</td>\n",
       "    </tr>\n",
       "    <tr>\n",
       "      <th>2</th>\n",
       "      <td>1996</td>\n",
       "      <td>Indianapolis 500</td>\n",
       "      <td>Indianapolis Motor Speedway</td>\n",
       "      <td>Oval</td>\n",
       "      <td>Tony Steward</td>\n",
       "      <td>Buddy Lazier</td>\n",
       "      <td>Hemelgarn</td>\n",
       "      <td>Ford Cosworth</td>\n",
       "    </tr>\n",
       "    <tr>\n",
       "      <th>3</th>\n",
       "      <td>1996-97</td>\n",
       "      <td>True Value 200</td>\n",
       "      <td>New Hampshire International Speedway</td>\n",
       "      <td>Oval</td>\n",
       "      <td>Richie Hearn</td>\n",
       "      <td>Scott Sharp</td>\n",
       "      <td>AJ Foyt</td>\n",
       "      <td>Ford Cosworth</td>\n",
       "    </tr>\n",
       "    <tr>\n",
       "      <th>4</th>\n",
       "      <td>1996-97</td>\n",
       "      <td>1996 Las Vegas 500K</td>\n",
       "      <td>Las Vegas Motor Speedway</td>\n",
       "      <td>Oval</td>\n",
       "      <td>Arie Luyendyk</td>\n",
       "      <td>Richie Hearn</td>\n",
       "      <td>Della Penna</td>\n",
       "      <td>Ford Cosworth</td>\n",
       "    </tr>\n",
       "  </tbody>\n",
       "</table>\n",
       "</div>"
      ],
      "text/plain": [
       "    Season                           Race  \\\n",
       "0     1996  Indy 200 at Walt Disney World   \n",
       "1     1996                  Dura Lube 200   \n",
       "2     1996               Indianapolis 500   \n",
       "3  1996-97                 True Value 200   \n",
       "4  1996-97            1996 Las Vegas 500K   \n",
       "\n",
       "                                  Track  Type  Pole Position         Winner  \\\n",
       "0            Walt Disney World Speedway  Oval   Buddy Lazier   Buzz Calkins   \n",
       "1         Phoenix International Raceway  Oval  Arie Luyendyk  Arie Luyendyk   \n",
       "2           Indianapolis Motor Speedway  Oval   Tony Steward   Buddy Lazier   \n",
       "3  New Hampshire International Speedway  Oval   Richie Hearn    Scott Sharp   \n",
       "4              Las Vegas Motor Speedway  Oval  Arie Luyendyk   Richie Hearn   \n",
       "\n",
       "    Winning Team Winning Engine  \n",
       "0        Bradley  Ford Cosworth  \n",
       "1  Byrd-Treadway  Ford Cosworth  \n",
       "2      Hemelgarn  Ford Cosworth  \n",
       "3        AJ Foyt  Ford Cosworth  \n",
       "4    Della Penna  Ford Cosworth  "
      ]
     },
     "execution_count": 3,
     "metadata": {},
     "output_type": "execute_result"
    }
   ],
   "source": [
    "df = pd.read_csv('IRL_Indycar.csv')\n",
    "df = df.replace(r\"^ +| +$\", r\"\", regex=True)\n",
    "df.head()\n"
   ]
  },
  {
   "cell_type": "code",
   "execution_count": 25,
   "id": "8e01ff2f-7001-4f8d-b5a8-11018371cd8e",
   "metadata": {},
   "outputs": [
    {
     "data": {
      "text/plain": [
       "array(['Bradley', 'Byrd-Treadway', 'Hemelgarn', 'A. J. Foyt Enterprises',\n",
       "       'Della Penna', 'Cheever', 'Blueprint', 'Treadway', 'Menard',\n",
       "       'Scandia', 'Kelley', 'Byrd-Cunningham', 'Panther', 'Cancelled',\n",
       "       'Dreyer & Reinbold', 'Galles', 'Chip Ganassi', 'Panther Racing',\n",
       "       'Team Menard', 'Team Penske', 'Kelley Racing', 'Hemelgarn Racing',\n",
       "       'Team Cheever', 'Galles Racing', 'Marlboro Team Penske',\n",
       "       'Target Chip Ganassi Racing', 'Blair Racing', 'Cheever Racing',\n",
       "       'Mo Nunn Racing', 'Andretti Green Racing',\n",
       "       'Rahal Letterman Racing', 'Aguri-Fernández Racing',\n",
       "       'Aguri-Fernández RacingDelphi Fernández Racing',\n",
       "       'Newman/Haas/Lanigan Racing', 'KV Racing Technology',\n",
       "       'Penske Racing', 'Dale Coyne Racing', 'Andretti Autosport',\n",
       "       'Chip Ganassi Racing', 'Bryan Herta Autosport',\n",
       "       'Sarah Fisher Racing',\n",
       "       'Race abandoned after 12 laps due to fatal crash of Dan Wheldon',\n",
       "       'Ed Carpenter Racing', 'Schmidt Hamilton Motorsports',\n",
       "       'Schmidt Peterson Motorsports', 'KVSH Racing', 'CFH Racing',\n",
       "       'Rahal Letterman Lanigan Racing', 'Andretti Herta Autosport',\n",
       "       'Andretti Herta Autosport with Curb Agajanian',\n",
       "       'Dale Coyne Racing with Vasser Sullivan',\n",
       "       'Harding Steinbrenner Racing',\n",
       "       'Andretti Harding Steinbrenner Autosport', 'Arrow McLaren SP',\n",
       "       'Meyer Shank Racing'], dtype=object)"
      ]
     },
     "execution_count": 25,
     "metadata": {},
     "output_type": "execute_result"
    }
   ],
   "source": [
    "df['Winning Team'].unique()\n",
    "\n",
    "# df[df['Winning Team'].isnull()]\n",
    "# df.to_csv('IRL_Indycar.csv', mode='w', header=True, index=False)"
   ]
  },
  {
   "cell_type": "code",
   "execution_count": 39,
   "id": "b9416b56-b561-4cd9-806e-93ebe9990ce4",
   "metadata": {},
   "outputs": [],
   "source": [
    "df['Winning Team'] = df['Winning Team'].replace('AJ Foyt', 'A. J. Foyt Enterprises')\n",
    "df[df['Winning Team'].str.contains('Penske')]['Winning Team'].unique()\n",
    "df.loc[df['Winning Team'].str.contains('Penske'), 'Winning Team'] = 'Team Penske'\n",
    "\n",
    "df[df['Winning Team'].str.contains('Andretti')]['Winning Team'].unique()\n",
    "df.loc[df['Winning Team'].str.contains('Andretti'), 'Winning Team'] = 'Andretti Autosport'\n",
    "df[df['Winning Team'].str.contains('Chip Ganassi')]\n",
    "df.loc[df['Winning Team'].str.contains('Chip Ganassi'), 'Winning Team'] = 'Chip Ganassi Racing'"
   ]
  },
  {
   "cell_type": "code",
   "execution_count": 56,
   "id": "ca5ae0f2-7933-4967-9301-517cdcc2f66c",
   "metadata": {},
   "outputs": [
    {
     "data": {
      "text/plain": [
       "Season\n",
       "1996        3\n",
       "1996-97     9\n",
       "1998        7\n",
       "1999        8\n",
       "2000        8\n",
       "2001        8\n",
       "2002        9\n",
       "2003        9\n",
       "2004        7\n",
       "2005        9\n",
       "2006        6\n",
       "2007        6\n",
       "2008       10\n",
       "2009        6\n",
       "2010        7\n",
       "2011        9\n",
       "2012        8\n",
       "2013       10\n",
       "2014       11\n",
       "2015        9\n",
       "2016        8\n",
       "2017       10\n",
       "2018        8\n",
       "2019        7\n",
       "2020        7\n",
       "2021        9\n",
       "Name: Winner, dtype: int64"
      ]
     },
     "execution_count": 56,
     "metadata": {},
     "output_type": "execute_result"
    }
   ],
   "source": [
    "df.groupby('Season')['Winner'].nunique()"
   ]
  },
  {
   "cell_type": "code",
   "execution_count": 79,
   "id": "e09deb2a-ecaf-405b-8c3c-345c728e0eae",
   "metadata": {},
   "outputs": [
    {
     "data": {
      "text/plain": [
       "Winner\n",
       "Colton Herta         3\n",
       "Álex Palou           3\n",
       "Josef Newgarden      2\n",
       "Marcus Ericsson      2\n",
       "Pato O'Ward          2\n",
       "Hélio Castroneves    1\n",
       "Rinus VeeKay         1\n",
       "Scott Dixon          1\n",
       "Will Power           1\n",
       "Name: Winner, dtype: int64"
      ]
     },
     "execution_count": 79,
     "metadata": {},
     "output_type": "execute_result"
    }
   ],
   "source": [
    "df.groupby('Season')['Winner'].value_counts()['2021']"
   ]
  },
  {
   "cell_type": "code",
   "execution_count": 77,
   "id": "93b472f2-02db-4f73-bad8-bfcb8d63e147",
   "metadata": {},
   "outputs": [
    {
     "data": {
      "text/plain": [
       "Scott Dixon          50\n",
       "Will Power           38\n",
       "Hélio Castroneves    25\n",
       "Dario Franchitti     21\n",
       "Josef Newgarden      20\n",
       "                     ..\n",
       "Jaques Lazier         1\n",
       "Jeff Ward             1\n",
       "Airton Daré           1\n",
       "Felipe Giaffone       1\n",
       "Buzz Calkins          1\n",
       "Name: Winner, Length: 61, dtype: int64"
      ]
     },
     "execution_count": 77,
     "metadata": {},
     "output_type": "execute_result"
    }
   ],
   "source": [
    "df.set_index(['Season', 'Race'])['Winner'].value_counts()"
   ]
  },
  {
   "cell_type": "code",
   "execution_count": 100,
   "id": "df815466-f9e3-44db-93af-238f718e3898",
   "metadata": {},
   "outputs": [
    {
     "data": {
      "text/plain": [
       "Track\n",
       "Indianapolis Motor Speedway Road Course    5\n",
       "Pocono Raceway                             3\n",
       "Streets of São Paulo                       3\n",
       "Barber Motorsports Park                    2\n",
       "Edmonton City Centre Airport               2\n",
       "Exhibition Place                           2\n",
       "Infineon Raceway                           2\n",
       "Streets of Long Beach                      2\n",
       "Streets of St. Petersburg                  2\n",
       "Texas Motor Speedway                       2\n",
       "Auto Club Speedway                         1\n",
       "Belle Isle                                 1\n",
       "Gateway Motorsports Park                   1\n",
       "Indianapolis Motor Speedway                1\n",
       "Mid-Ohio Sports Car Course                 1\n",
       "Portland International Raceway             1\n",
       "Reliant Park                               1\n",
       "Road America                               1\n",
       "Sonoma Raceway                             1\n",
       "Streets of Baltimore                       1\n",
       "The Milwaukee Mile                         1\n",
       "The Raceway at Belle Isle Park             1\n",
       "Watkins Glen International                 1\n",
       "Name: Track, dtype: int64"
      ]
     },
     "execution_count": 100,
     "metadata": {},
     "output_type": "execute_result"
    }
   ],
   "source": [
    "df.groupby('Winner')['Track'].value_counts()['Will Power']"
   ]
  },
  {
   "cell_type": "code",
   "execution_count": null,
   "id": "855c4d1c-de55-4c63-b5d6-d1b415c21811",
   "metadata": {},
   "outputs": [],
   "source": []
  }
 ],
 "metadata": {
  "kernelspec": {
   "display_name": "Python 3 (ipykernel)",
   "language": "python",
   "name": "python3"
  },
  "language_info": {
   "codemirror_mode": {
    "name": "ipython",
    "version": 3
   },
   "file_extension": ".py",
   "mimetype": "text/x-python",
   "name": "python",
   "nbconvert_exporter": "python",
   "pygments_lexer": "ipython3",
   "version": "3.8.12"
  }
 },
 "nbformat": 4,
 "nbformat_minor": 5
}
